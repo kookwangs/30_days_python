{
 "cells": [
  {
   "cell_type": "markdown",
   "metadata": {},
   "source": [
    "### **Exercise 1: Even or Odd**\n",
    "Write a program that takes an integer input from the user and checks whether the number is even or odd.\n",
    "\n",
    "```python\n",
    "# Example:\n",
    "# Input: 7\n",
    "# Output: Odd\n",
    "```\n",
    "\n",
    "---\n",
    "\n",
    "### **Exercise 2: Check Voting Eligibility**\n",
    "Write a program that asks for the user's age and checks if the person is eligible to vote (age 18 or older).\n",
    "\n",
    "```python\n",
    "# Example:\n",
    "# Input: 20\n",
    "# Output: You are eligible to vote.\n",
    "```\n",
    "\n",
    "---\n",
    "\n",
    "### **Exercise 3: Number Classification**\n",
    "Write a program that takes an integer from the user and prints whether the number is positive, negative, or zero.\n",
    "\n",
    "```python\n",
    "# Example:\n",
    "# Input: -5\n",
    "# Output: Negative\n",
    "```\n",
    "\n",
    "---\n",
    "\n",
    "### **Exercise 4: Grade Classification**\n",
    "Write a program that takes a student's score (0-100) and prints their grade based on the following rules:\n",
    "- Score >= 90: Grade A\n",
    "- Score >= 75: Grade B\n",
    "- Score >= 50: Grade C\n",
    "- Score < 50: Grade F\n",
    "\n",
    "```python\n",
    "# Example:\n",
    "# Input: 85\n",
    "# Output: Grade B\n",
    "```\n",
    "\n",
    "---\n",
    "\n",
    "### **Exercise 5: Temperature Check**\n",
    "Write a program that asks the user for the temperature in degrees Celsius and prints whether it is \"Cold\", \"Warm\", or \"Hot\" based on the following conditions:\n",
    "- Below 15°C: Cold\n",
    "- 15°C to 30°C: Warm\n",
    "- Above 30°C: Hot\n",
    "\n",
    "```python\n",
    "# Example:\n",
    "# Input: 28\n",
    "# Output: Warm\n",
    "```\n",
    "\n",
    "---\n",
    "\n",
    "### **Exercise 6: Maximum of Three Numbers**\n",
    "Write a program that takes three numbers as input and prints the largest of the three.\n",
    "\n",
    "```python\n",
    "# Example:\n",
    "# Input: 5, 12, 7\n",
    "# Output: The largest number is 12\n",
    "```\n",
    "\n",
    "---\n",
    "\n",
    "### **Exercise 7: Leap Year Check**\n",
    "Write a program that asks the user for a year and checks whether it's a leap year or not. A year is a leap year if:\n",
    "- It is divisible by 4\n",
    "- But not divisible by 100 unless it is also divisible by 400\n",
    "\n",
    "```python\n",
    "# Example:\n",
    "# Input: 2024\n",
    "# Output: Leap Year\n",
    "```\n",
    "\n",
    "---\n",
    "\n",
    "### **Exercise 8: Traffic Light Action**\n",
    "Write a program that simulates a traffic light. The user inputs the color of the traffic light (\"Red\", \"Yellow\", or \"Green\") and the program prints the corresponding action:\n",
    "- \"Red\" → \"Stop\"\n",
    "- \"Yellow\" → \"Slow Down\"\n",
    "- \"Green\" → \"Go\"\n",
    "\n",
    "```python\n",
    "# Example:\n",
    "# Input: Red\n",
    "# Output: Stop\n",
    "```\n",
    "\n",
    "---\n",
    "\n",
    "### **Exercise 9: Number Comparison**\n",
    "Write a program that takes two numbers from the user and prints whether the first number is greater than, less than, or equal to the second number.\n",
    "\n",
    "```python\n",
    "# Example:\n",
    "# Input: 10, 15\n",
    "# Output: 10 is less than 15\n",
    "```\n",
    "\n",
    "---\n",
    "\n",
    "### **Exercise 10: Day of the Week**\n",
    "Write a program that takes an integer input (1 to 7) and prints the corresponding day of the week. For example:\n",
    "- 1 → Monday\n",
    "- 2 → Tuesday\n",
    "- 3 → Wednesday\n",
    "- 4 → Thursday\n",
    "- 5 → Friday\n",
    "- 6 → Saturday\n",
    "- 7 → Sunday\n",
    "\n",
    "```python\n",
    "# Example:\n",
    "# Input: 4\n",
    "# Output: Thursday\n",
    "```"
   ]
  },
  {
   "cell_type": "code",
   "execution_count": 1,
   "metadata": {},
   "outputs": [
    {
     "name": "stdout",
     "output_type": "stream",
     "text": [
      "Odd\n"
     ]
    }
   ],
   "source": [
    "x = int(input(\"Input: \"))\n",
    "if x%2 ==0:\n",
    "    print(\"Even\")\n",
    "else:\n",
    "    print(\"Odd\")"
   ]
  },
  {
   "cell_type": "code",
   "execution_count": 2,
   "metadata": {},
   "outputs": [
    {
     "name": "stdout",
     "output_type": "stream",
     "text": [
      "Not eligible\n"
     ]
    }
   ],
   "source": [
    "x = int(input(\"Input: \"))\n",
    "if x>=18:\n",
    "    print(\"Eligible\")\n",
    "else:\n",
    "    print(\"Not eligible\")"
   ]
  },
  {
   "cell_type": "code",
   "execution_count": 3,
   "metadata": {},
   "outputs": [
    {
     "name": "stdout",
     "output_type": "stream",
     "text": [
      "zero\n"
     ]
    }
   ],
   "source": [
    "x = int(input(\"Input: \"))\n",
    "if x>0:\n",
    "    print(\"positive\")\n",
    "elif x<0:\n",
    "    print(\"negative\")\n",
    "else:\n",
    "    print(\"zero\")\n"
   ]
  },
  {
   "cell_type": "code",
   "execution_count": 4,
   "metadata": {},
   "outputs": [
    {
     "name": "stdout",
     "output_type": "stream",
     "text": [
      "Grade B\n"
     ]
    }
   ],
   "source": [
    "x = float(input(\"Input: \"))\n",
    "if x>=90:\n",
    "    print(\"Grade A\")\n",
    "elif x>=75:\n",
    "    print(\"Grade B\")\n",
    "elif x>=50:\n",
    "    print(\"Grade C\")\n",
    "else:\n",
    "    print(\"Grade F\")"
   ]
  },
  {
   "cell_type": "code",
   "execution_count": 5,
   "metadata": {},
   "outputs": [
    {
     "name": "stdout",
     "output_type": "stream",
     "text": [
      "Warm\n"
     ]
    }
   ],
   "source": [
    "x = float(input(\"Input: \"))\n",
    "if x>30:\n",
    "    print(\"Hot\")\n",
    "elif x>=15 and x<=30:\n",
    "    print(\"Warm\")\n",
    "else:\n",
    "    print(\"Cold\")"
   ]
  },
  {
   "cell_type": "code",
   "execution_count": 17,
   "metadata": {},
   "outputs": [
    {
     "name": "stdout",
     "output_type": "stream",
     "text": [
      "12\n"
     ]
    }
   ],
   "source": [
    "x = input(\"Input: \")\n",
    "x = x.replace(\" \",\"\")\n",
    "listx = x.split(sep=',')\n",
    "listx = list(map(int,listx))\n",
    "\n",
    "max = 0\n",
    "for i in listx:\n",
    "    if i>max:\n",
    "        max=i\n",
    "\n",
    "print(max)"
   ]
  },
  {
   "cell_type": "code",
   "execution_count": 18,
   "metadata": {},
   "outputs": [
    {
     "name": "stdout",
     "output_type": "stream",
     "text": [
      "Leap\n"
     ]
    }
   ],
   "source": [
    "x = int(input(\"Input: \"))\n",
    "if x%4==0:\n",
    "    if x%100!=0:\n",
    "        print(\"Leap\")\n",
    "    elif X%400 ==0:\n",
    "        print(\"Leap\")\n",
    "    else:\n",
    "        print(\"Not Leap\")\n",
    "else:\n",
    "    print(\"Not Leap\")"
   ]
  },
  {
   "cell_type": "code",
   "execution_count": 19,
   "metadata": {},
   "outputs": [
    {
     "name": "stdout",
     "output_type": "stream",
     "text": [
      "Go\n"
     ]
    }
   ],
   "source": [
    "x=input(\"Input: \")\n",
    "if x==\"Red\":\n",
    "    print(\"Stop\")\n",
    "elif x==\"Yellow\":\n",
    "    print(\"Slow Down\")\n",
    "else:\n",
    "    print(\"Go\")"
   ]
  },
  {
   "cell_type": "code",
   "execution_count": 20,
   "metadata": {},
   "outputs": [
    {
     "name": "stdout",
     "output_type": "stream",
     "text": [
      "10 less than 15\n"
     ]
    }
   ],
   "source": [
    "x = input(\"Input: \")\n",
    "x = x.replace(\" \",\"\")\n",
    "listx = x.split(sep=',')\n",
    "listx = list(map(int, listx))\n",
    "\n",
    "if listx[0] == listx[1]:\n",
    "    print(\"Equal\")\n",
    "elif listx[0] < listx[1]:\n",
    "    print(f\"{listx[0]} less than {listx[1]}\")\n",
    "else:\n",
    "    print(f\"{listx[0]} more than {listx[1]}\")\n"
   ]
  },
  {
   "cell_type": "code",
   "execution_count": 21,
   "metadata": {},
   "outputs": [
    {
     "name": "stdout",
     "output_type": "stream",
     "text": [
      "Thursday\n"
     ]
    }
   ],
   "source": [
    "x = int(input(\"Input: \"))\n",
    "day = {\n",
    "    1:\"Monday\",\n",
    "    2:\"Tuesday\",\n",
    "    3:\"Wednesday\",\n",
    "    4:\"Thursday\",\n",
    "    5:\"Friday\",\n",
    "    6:\"Saturday\",\n",
    "    7:\"Sunday\"\n",
    "}\n",
    "\n",
    "print(day.get(x))\n",
    "\n"
   ]
  },
  {
   "cell_type": "code",
   "execution_count": null,
   "metadata": {},
   "outputs": [],
   "source": []
  }
 ],
 "metadata": {
  "kernelspec": {
   "display_name": "Python 3",
   "language": "python",
   "name": "python3"
  },
  "language_info": {
   "codemirror_mode": {
    "name": "ipython",
    "version": 3
   },
   "file_extension": ".py",
   "mimetype": "text/x-python",
   "name": "python",
   "nbconvert_exporter": "python",
   "pygments_lexer": "ipython3",
   "version": "3.10.7"
  }
 },
 "nbformat": 4,
 "nbformat_minor": 2
}
