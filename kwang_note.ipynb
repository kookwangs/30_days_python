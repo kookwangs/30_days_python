{
 "cells": [
  {
   "cell_type": "code",
   "execution_count": null,
   "id": "160c54a7",
   "metadata": {},
   "outputs": [],
   "source": [
    "x=input(\"Input your favorite color: \")\n",
    "x=x.strip().split()\n",
    "\n",
    "for i in x:\n",
    "    print(f\"Lower: {i.lower()} \\n Upper: {i.upper()}\")\n"
   ]
  },
  {
   "cell_type": "code",
   "execution_count": null,
   "id": "105e1a60",
   "metadata": {},
   "outputs": [],
   "source": []
  }
 ],
 "metadata": {
  "language_info": {
   "name": "python"
  }
 },
 "nbformat": 4,
 "nbformat_minor": 5
}
