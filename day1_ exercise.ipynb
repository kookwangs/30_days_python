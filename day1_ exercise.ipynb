{
 "cells": [
  {
   "cell_type": "markdown",
   "metadata": {},
   "source": [
    "#### Day 1 Exercise"
   ]
  },
  {
   "cell_type": "markdown",
   "metadata": {},
   "source": [
    "**1. Print Statement**  \n",
    "Fix the above statement to print the sentence properly without any errors."
   ]
  },
  {
   "cell_type": "code",
   "execution_count": null,
   "metadata": {},
   "outputs": [],
   "source": [
    "#Problem 1\n",
    "print(\"Python\" is a \"great\" language\")"
   ]
  },
  {
   "cell_type": "code",
   "execution_count": null,
   "metadata": {},
   "outputs": [],
   "source": [
    "#Problem 2\n",
    "print(\"It's a wonderful day to learn Python!\")"
   ]
  },
  {
   "cell_type": "code",
   "execution_count": null,
   "metadata": {},
   "outputs": [],
   "source": [
    "#Problem 3\n",
    "print(\"He said, \"Python is easy to learn.\"\")"
   ]
  },
  {
   "cell_type": "code",
   "execution_count": null,
   "metadata": {},
   "outputs": [],
   "source": [
    "#Problem 4\n",
    "print('Let's learn to \"code\" and have fun')"
   ]
  },
  {
   "cell_type": "markdown",
   "metadata": {},
   "source": [
    "**2. Print Your Name**  "
   ]
  },
  {
   "cell_type": "code",
   "execution_count": 1,
   "metadata": {},
   "outputs": [
    {
     "name": "stdout",
     "output_type": "stream",
     "text": [
      "Kunanya\n"
     ]
    }
   ],
   "source": [
    "print(\"Kunanya\")"
   ]
  },
  {
   "cell_type": "markdown",
   "metadata": {},
   "source": [
    "3. Basic Input  \n",
    "Write a program that asks for the user's age and prints a message saying \"You are X years old\" (replace X with the input)."
   ]
  },
  {
   "cell_type": "code",
   "execution_count": 2,
   "metadata": {},
   "outputs": [
    {
     "name": "stdout",
     "output_type": "stream",
     "text": [
      "You are 23 years old\n"
     ]
    }
   ],
   "source": [
    "x = int(input(\"How old are you?: \"))\n",
    "print(f\"You are {x} years old\")"
   ]
  },
  {
   "cell_type": "markdown",
   "metadata": {},
   "source": [
    "4. Simple Arithmetic Operations  \n",
    "Write a program that takes two numbers as input and prints their sum, difference, multiplication, and division."
   ]
  },
  {
   "cell_type": "code",
   "execution_count": 3,
   "metadata": {},
   "outputs": [
    {
     "name": "stdout",
     "output_type": "stream",
     "text": [
      "sum = 24.5\n",
      "difference = 16.5\n",
      "multiplication = 82.0\n",
      "division = 5.125\n"
     ]
    }
   ],
   "source": [
    "x = float(input(\"Input first number\"))\n",
    "y = float(input(\"Input second number\"))\n",
    "\n",
    "print(f\"sum = {x+y}\")\n",
    "print(f\"difference = {x-y}\")\n",
    "print(f\"multiplication = {x*y}\")\n",
    "print(f\"division = {x/y}\")"
   ]
  },
  {
   "cell_type": "markdown",
   "metadata": {},
   "source": [
    "5. Concatenation of Strings  \n",
    "Write a program that takes two strings as input and prints them concatenated."
   ]
  },
  {
   "cell_type": "markdown",
   "metadata": {},
   "source": []
  },
  {
   "cell_type": "code",
   "execution_count": 4,
   "metadata": {},
   "outputs": [
    {
     "name": "stdout",
     "output_type": "stream",
     "text": [
      "wfrefrewrfrfrf\n"
     ]
    }
   ],
   "source": [
    "x = input(\"First string: \")\n",
    "y = input(\"Second string: \")\n",
    "print(x+y)"
   ]
  },
  {
   "cell_type": "markdown",
   "metadata": {},
   "source": [
    "6. String Length  \n",
    "Write a program that takes a string and prints its length."
   ]
  },
  {
   "cell_type": "code",
   "execution_count": 5,
   "metadata": {},
   "outputs": [
    {
     "name": "stdout",
     "output_type": "stream",
     "text": [
      "11\n"
     ]
    }
   ],
   "source": [
    "print(len(input(\"Input string: \")))"
   ]
  },
  {
   "cell_type": "markdown",
   "metadata": {},
   "source": [
    "7. Escape Characters  \n",
    "Write a program to print the following on the console:  \n",
    "Hello,  \n",
    "\"Python\""
   ]
  },
  {
   "cell_type": "code",
   "execution_count": 6,
   "metadata": {},
   "outputs": [
    {
     "name": "stdout",
     "output_type": "stream",
     "text": [
      "Hello,\"Python\"\n"
     ]
    }
   ],
   "source": [
    "print('Hello,\"Python\"')"
   ]
  },
  {
   "cell_type": "markdown",
   "metadata": {},
   "source": [
    "8. Fix the below code and print outcome like below  \n",
    "My Name is 'X'  \n",
    "My Age is 27"
   ]
  },
  {
   "cell_type": "code",
   "execution_count": 7,
   "metadata": {},
   "outputs": [
    {
     "name": "stdout",
     "output_type": "stream",
     "text": [
      "My name is 'X' \n",
      " My Age is 27\n"
     ]
    }
   ],
   "source": [
    "print('My name is \\'X\\' \\n My Age is 27')"
   ]
  },
  {
   "cell_type": "markdown",
   "metadata": {},
   "source": [
    "9. **Backslash Exercise**  \n",
    "Write a program that prints the following using escape sequences:  \n",
    "Path: C:\\Users\\YourName"
   ]
  },
  {
   "cell_type": "code",
   "execution_count": 8,
   "metadata": {},
   "outputs": [
    {
     "name": "stdout",
     "output_type": "stream",
     "text": [
      "Path: C:\\Users\\YourName\n"
     ]
    }
   ],
   "source": [
    "print('Path: C:\\\\Users\\\\YourName')"
   ]
  },
  {
   "cell_type": "markdown",
   "metadata": {},
   "source": [
    "10. Basic String Formatting  \n",
    "Write a program that takes a name and age as input and prints a message saying \"Your name is X and you are Y years old\"."
   ]
  },
  {
   "cell_type": "code",
   "execution_count": 9,
   "metadata": {},
   "outputs": [
    {
     "name": "stdout",
     "output_type": "stream",
     "text": [
      "Your name is kwang and you are 23 years old\n"
     ]
    }
   ],
   "source": [
    "name = input(\"Name: \")\n",
    "age = input(\"Age: \")\n",
    "print(f\"Your name is {name} and you are {age} years old\")"
   ]
  },
  {
   "cell_type": "code",
   "execution_count": null,
   "metadata": {},
   "outputs": [],
   "source": []
  }
 ],
 "metadata": {
  "kernelspec": {
   "display_name": "Python 3",
   "language": "python",
   "name": "python3"
  },
  "language_info": {
   "codemirror_mode": {
    "name": "ipython",
    "version": 3
   },
   "file_extension": ".py",
   "mimetype": "text/x-python",
   "name": "python",
   "nbconvert_exporter": "python",
   "pygments_lexer": "ipython3",
   "version": "3.10.7"
  }
 },
 "nbformat": 4,
 "nbformat_minor": 2
}
