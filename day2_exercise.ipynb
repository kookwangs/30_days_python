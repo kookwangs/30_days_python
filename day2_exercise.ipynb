{
 "cells": [
  {
   "cell_type": "markdown",
   "metadata": {},
   "source": [
    "### **Tasks and Coding Exercises**\n",
    "\n",
    "1. Create a variable called `name` and assign it your name. Print a message saying \"Hello, [name]!\" using an f-string.\n",
    "2. Declare two variables, `x` and `y`, with values 20 and 4, respectively. Calculate their sum, difference, product, and quotient.\n",
    "3. Write a Python program that asks the user for their age and checks if they are eligible to vote (age >= 18).\n",
    "4. Create a variable `pi` with the value 3.14159. Use it to calculate and print the area of a circle with radius 7.\n",
    "5. Write a program that takes two numbers from the user and prints whether the first number is greater than, less than, or equal to the second number.\n",
    "6. Declare a Boolean variable called `is_raining` and set it to `True` or `False`. Use it to print \"Take an umbrella\" if it is raining, otherwise print \"Enjoy the sunshine\".\n",
    "7. Write a Python program that takes two numbers from the user and prints the result of their division. Make sure to handle the case when the second number is zero.\n",
    "8. Write a Python program that converts Celsius to Fahrenheit. Formula: `F = (C * 9/5) + 32`.\n",
    "9. Create a Python program that takes a number from the user and checks whether it is even or odd.\n",
    "10. Write a program that takes a string from the user and prints whether it is a palindrome (the same forwards and backwards)."
   ]
  },
  {
   "cell_type": "code",
   "execution_count": 1,
   "metadata": {},
   "outputs": [
    {
     "name": "stdout",
     "output_type": "stream",
     "text": [
      "Hello, Kwang\n"
     ]
    }
   ],
   "source": [
    "name = \"Kwang\"\n",
    "print(f\"Hello, {name}\")"
   ]
  },
  {
   "cell_type": "code",
   "execution_count": 2,
   "metadata": {},
   "outputs": [
    {
     "name": "stdout",
     "output_type": "stream",
     "text": [
      " sum: 24, diff: 16, multi: 80, quotient: 5.0\n"
     ]
    }
   ],
   "source": [
    "x=20\n",
    "y=4\n",
    "\n",
    "print(f\" sum: {x+y}, diff: {x-y}, multi: {x*y}, quotient: {x/y}\")"
   ]
  },
  {
   "cell_type": "code",
   "execution_count": 4,
   "metadata": {},
   "outputs": [
    {
     "name": "stdout",
     "output_type": "stream",
     "text": [
      "not eligible\n"
     ]
    }
   ],
   "source": [
    "if int(input(\"Age: \")) >= 18:\n",
    "    print(\"eligible\")\n",
    "else:\n",
    "    print(\"not eligible\")"
   ]
  },
  {
   "cell_type": "code",
   "execution_count": 6,
   "metadata": {},
   "outputs": [
    {
     "name": "stdout",
     "output_type": "stream",
     "text": [
      "area with radius = 7: 153.93791\n"
     ]
    }
   ],
   "source": [
    "pi = 3.14159\n",
    "print(f\"area with radius = 7: {pi*(7**2)}\")"
   ]
  },
  {
   "cell_type": "code",
   "execution_count": 7,
   "metadata": {},
   "outputs": [
    {
     "name": "stdout",
     "output_type": "stream",
     "text": [
      "first num > second num\n"
     ]
    }
   ],
   "source": [
    "x = float(input(\"First number: \"))\n",
    "y = float(input(\"Second number: \"))\n",
    "\n",
    "if x==y:\n",
    "    print(\"equal\")\n",
    "elif x>y:\n",
    "    print(\"first num > second num\")\n",
    "else:\n",
    "    print(\"first num < second num\")\n",
    "\n"
   ]
  },
  {
   "cell_type": "code",
   "execution_count": 8,
   "metadata": {},
   "outputs": [
    {
     "name": "stdout",
     "output_type": "stream",
     "text": [
      "Take an umbrella\n"
     ]
    }
   ],
   "source": [
    "is_raining = True\n",
    "if is_raining == True:\n",
    "    print(\"Take an umbrella\")\n",
    "else:\n",
    "    print(\"Enjoy the sunshine\")"
   ]
  },
  {
   "cell_type": "code",
   "execution_count": 9,
   "metadata": {},
   "outputs": [
    {
     "name": "stdout",
     "output_type": "stream",
     "text": [
      "The second number should not be 0\n"
     ]
    }
   ],
   "source": [
    "x = float(input(\"First number: \"))\n",
    "y = float(input(\"Second number: \"))\n",
    "\n",
    "if y != 0:\n",
    "    print(f\"Division: {x/y}\")\n",
    "else:\n",
    "    print(\"The second number should not be 0\")"
   ]
  },
  {
   "cell_type": "code",
   "execution_count": 10,
   "metadata": {},
   "outputs": [
    {
     "name": "stdout",
     "output_type": "stream",
     "text": [
      "Fahrenheit: 77.0\n"
     ]
    }
   ],
   "source": [
    "c = float(input(\"Celsius: \"))\n",
    "print(f\"Fahrenheit: {(c*9/5)+32}\")"
   ]
  },
  {
   "cell_type": "code",
   "execution_count": 11,
   "metadata": {},
   "outputs": [
    {
     "name": "stdout",
     "output_type": "stream",
     "text": [
      "Odd\n"
     ]
    }
   ],
   "source": [
    "x = int(input(\"Number: \"))\n",
    "if x%2==0:\n",
    "    print(\"Even\")\n",
    "else:\n",
    "    print(\"Odd\")"
   ]
  },
  {
   "cell_type": "code",
   "execution_count": 12,
   "metadata": {},
   "outputs": [
    {
     "name": "stdout",
     "output_type": "stream",
     "text": [
      "The string is a palindrome\n"
     ]
    }
   ],
   "source": [
    "s = input(\"Enter a string: \")\n",
    "if s == s[::-1]:\n",
    "    print(\"The string is a palindrome\")\n",
    "else:\n",
    "    print(\"The string is not a palindrome\")"
   ]
  }
 ],
 "metadata": {
  "kernelspec": {
   "display_name": "Python 3",
   "language": "python",
   "name": "python3"
  },
  "language_info": {
   "codemirror_mode": {
    "name": "ipython",
    "version": 3
   },
   "file_extension": ".py",
   "mimetype": "text/x-python",
   "name": "python",
   "nbconvert_exporter": "python",
   "pygments_lexer": "ipython3",
   "version": "3.10.7"
  }
 },
 "nbformat": 4,
 "nbformat_minor": 2
}
