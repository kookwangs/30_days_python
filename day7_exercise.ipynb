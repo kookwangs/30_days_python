{
 "cells": [
  {
   "cell_type": "markdown",
   "metadata": {},
   "source": [
    "---\n",
    "\n",
    "### 1. **Print Numbers 1 to 10 (For Loop)**\n",
    "Write a program that prints numbers from 1 to 10 using a `for` loop.\n",
    "\n",
    "---\n",
    "\n",
    "### 2. **Print Numbers 1 to 10 (While Loop)**\n",
    "Write a program that prints numbers from 1 to 10 using a `while` loop.\n",
    "\n",
    "---\n",
    "\n",
    "### 3. **Sum of First 10 Natural Numbers (For Loop)**\n",
    "Write a program to calculate the sum of the first 10 natural numbers using a `for` loop.\n",
    "\n",
    "---\n",
    "\n",
    "### 4. **Sum of First 10 Natural Numbers (While Loop)**\n",
    "Write a program to calculate the sum of the first 10 natural numbers using a `while` loop.\n",
    "\n",
    "---\n",
    "\n",
    "### 5. **Print Even Numbers Between 1 and 20 (For Loop)**\n",
    "Write a program that prints all even numbers between 1 and 20 using a `for` loop.\n",
    "\n",
    "---\n",
    "\n",
    "### 6. **Print Odd Numbers Between 1 and 20 (While Loop)**\n",
    "Write a program that prints all odd numbers between 1 and 20 using a `while` loop.\n",
    "\n",
    "---\n",
    "\n",
    "### 7. **Print Each Character of a String (For Loop)**\n",
    "Write a program that takes a string as input and prints each character on a new line using a `for` loop.\n",
    "\n",
    "---\n",
    "\n",
    "### 8. **Multiplication Table (For Loop)**\n",
    "Write a program that prints the multiplication table of a number entered by the user using a `for` loop.\n",
    "\n",
    "---\n",
    "\n",
    "### 9. **Guess the Secret Number (While Loop)**\n",
    "Write a guessing game where the user has to guess a secret number between 1 and 10 using a `while` loop. The program should keep asking until they guess correctly.\n",
    "\n",
    "---\n",
    "\n",
    "### 10. **Count Down from 10 to 1 (While Loop)**\n",
    "Write a program that counts down from 10 to 1 using a `while` loop.\n",
    "\n",
    "---"
   ]
  },
  {
   "cell_type": "code",
   "execution_count": 1,
   "metadata": {},
   "outputs": [
    {
     "name": "stdout",
     "output_type": "stream",
     "text": [
      "1\n",
      "2\n",
      "3\n",
      "4\n",
      "5\n",
      "6\n",
      "7\n",
      "8\n",
      "9\n",
      "10\n"
     ]
    }
   ],
   "source": [
    "for i in range(1,11):\n",
    "    print(i)"
   ]
  },
  {
   "cell_type": "code",
   "execution_count": 3,
   "metadata": {},
   "outputs": [
    {
     "name": "stdout",
     "output_type": "stream",
     "text": [
      "1\n",
      "2\n",
      "3\n",
      "4\n",
      "5\n",
      "6\n",
      "7\n",
      "8\n",
      "9\n",
      "10\n"
     ]
    }
   ],
   "source": [
    "i=1\n",
    "while i<=10:\n",
    "    print(i)\n",
    "    i+=1"
   ]
  },
  {
   "cell_type": "code",
   "execution_count": 4,
   "metadata": {},
   "outputs": [
    {
     "name": "stdout",
     "output_type": "stream",
     "text": [
      "55\n"
     ]
    }
   ],
   "source": [
    "sum=0\n",
    "for i in range(1,11):\n",
    "    sum+=i\n",
    "\n",
    "print(sum)"
   ]
  },
  {
   "cell_type": "code",
   "execution_count": 6,
   "metadata": {},
   "outputs": [
    {
     "name": "stdout",
     "output_type": "stream",
     "text": [
      "55\n"
     ]
    }
   ],
   "source": [
    "sum=0\n",
    "i=1\n",
    "while i<=10:\n",
    "    sum+=i\n",
    "    i+=1\n",
    "\n",
    "print(sum)"
   ]
  },
  {
   "cell_type": "code",
   "execution_count": 7,
   "metadata": {},
   "outputs": [
    {
     "name": "stdout",
     "output_type": "stream",
     "text": [
      "2\n",
      "4\n",
      "6\n",
      "8\n",
      "10\n",
      "12\n",
      "14\n",
      "16\n",
      "18\n",
      "20\n"
     ]
    }
   ],
   "source": [
    "for i in range(1,21):\n",
    "    if i%2==0:\n",
    "        print(i)"
   ]
  },
  {
   "cell_type": "code",
   "execution_count": 8,
   "metadata": {},
   "outputs": [
    {
     "name": "stdout",
     "output_type": "stream",
     "text": [
      "2\n",
      "4\n",
      "6\n",
      "8\n",
      "10\n",
      "12\n",
      "14\n",
      "16\n",
      "18\n",
      "20\n"
     ]
    }
   ],
   "source": [
    "i=1\n",
    "while i<= 20:\n",
    "    if i%2==0:\n",
    "        print(i)\n",
    "    i+=1"
   ]
  },
  {
   "cell_type": "code",
   "execution_count": 9,
   "metadata": {},
   "outputs": [
    {
     "name": "stdout",
     "output_type": "stream",
     "text": [
      "1\n",
      "3\n",
      "5\n",
      "7\n",
      "9\n",
      "11\n",
      "13\n",
      "15\n",
      "17\n",
      "19\n"
     ]
    }
   ],
   "source": [
    "i=1\n",
    "while i<= 20:\n",
    "    if i%2!=0:\n",
    "        print(i)\n",
    "    i+=1"
   ]
  },
  {
   "cell_type": "code",
   "execution_count": 11,
   "metadata": {},
   "outputs": [
    {
     "name": "stdout",
     "output_type": "stream",
     "text": [
      "c\n",
      "h\n",
      "a\n",
      "r\n",
      "a\n",
      "c\n",
      "t\n",
      "e\n",
      "r\n"
     ]
    }
   ],
   "source": [
    "x = input(\"Input: \")\n",
    "for i in x:\n",
    "    print(i)"
   ]
  },
  {
   "cell_type": "code",
   "execution_count": 12,
   "metadata": {},
   "outputs": [
    {
     "name": "stdout",
     "output_type": "stream",
     "text": [
      "12.0 * 1 = 12.0\n",
      "12.0 * 2 = 24.0\n",
      "12.0 * 3 = 36.0\n",
      "12.0 * 4 = 48.0\n",
      "12.0 * 5 = 60.0\n",
      "12.0 * 6 = 72.0\n",
      "12.0 * 7 = 84.0\n",
      "12.0 * 8 = 96.0\n",
      "12.0 * 9 = 108.0\n",
      "12.0 * 10 = 120.0\n",
      "12.0 * 11 = 132.0\n",
      "12.0 * 12 = 144.0\n"
     ]
    }
   ],
   "source": [
    "x = float(input(\"Input: \"))\n",
    "for i in range(1,13):\n",
    "    print(f\"{x} * {i} = {x*i}\")"
   ]
  },
  {
   "cell_type": "code",
   "execution_count": 13,
   "metadata": {},
   "outputs": [],
   "source": [
    "import random"
   ]
  },
  {
   "cell_type": "code",
   "execution_count": 15,
   "metadata": {},
   "outputs": [
    {
     "name": "stdout",
     "output_type": "stream",
     "text": [
      "5 is NOT correct number\n",
      "6 is NOT correct number\n",
      "7 is NOT correct number\n",
      "9 is NOT correct number\n",
      "10 is NOT correct number\n",
      "1 is NOT correct number\n",
      "2 is NOT correct number\n",
      "3 is NOT correct number\n",
      "You guess the correct number 4\n"
     ]
    }
   ],
   "source": [
    "rand = random.randint(1, 10)\n",
    "get = 0\n",
    "while get!=1:\n",
    "    guess = int(input(\"Input number: \"))\n",
    "    if guess == rand:\n",
    "        get = 1\n",
    "        print(\"You guess the correct number \"+str(guess))\n",
    "    else:\n",
    "        print(str(guess)+\" is NOT correct number\")\n",
    "    "
   ]
  },
  {
   "cell_type": "code",
   "execution_count": 16,
   "metadata": {},
   "outputs": [
    {
     "name": "stdout",
     "output_type": "stream",
     "text": [
      "10\n",
      "9\n",
      "8\n",
      "7\n",
      "6\n",
      "5\n",
      "4\n",
      "3\n",
      "2\n",
      "1\n"
     ]
    }
   ],
   "source": [
    "i = 10\n",
    "while i>=1:\n",
    "    print(i)\n",
    "    i-=1"
   ]
  },
  {
   "cell_type": "code",
   "execution_count": null,
   "metadata": {},
   "outputs": [],
   "source": []
  }
 ],
 "metadata": {
  "kernelspec": {
   "display_name": "Python 3",
   "language": "python",
   "name": "python3"
  },
  "language_info": {
   "codemirror_mode": {
    "name": "ipython",
    "version": 3
   },
   "file_extension": ".py",
   "mimetype": "text/x-python",
   "name": "python",
   "nbconvert_exporter": "python",
   "pygments_lexer": "ipython3",
   "version": "3.10.7"
  }
 },
 "nbformat": 4,
 "nbformat_minor": 2
}
