{
 "cells": [
  {
   "cell_type": "markdown",
   "metadata": {},
   "source": [
    "### Exercises Day3:\n",
    "\n",
    "1. **First Three Letters of a Name**  \n",
    "   - Take a user's full name as input, and print the first three letters of their first name and the first three letters of their last name.\n",
    "\n",
    "2. **Reverse a Word**  \n",
    "   - Take a word as input and print the reversed word using slicing.\n",
    "\n",
    "3. **Extract the Middle Character**  \n",
    "   - Take an odd-length string as input and print the middle character using slicing.\n",
    "\n",
    "4. **Count Characters (Excluding Spaces)**  \n",
    "   - Take a sentence as input and count the number of characters, excluding spaces.\n",
    "\n",
    "5. **Modify User Input**  \n",
    "   - Ask the user for their favorite color and output the color in lowercase, uppercase, and with spaces removed.\n",
    "\n",
    "6. **Username Generator**  \n",
    "   - Take the user's full name and generate a username using the first three letters of the first name and the last three letters of the last name.\n",
    "\n",
    "7. **Strip Leading and Trailing Spaces**  \n",
    "   - Take a string with extra spaces and remove all the leading and trailing spaces using `strip()`.\n",
    "\n",
    "8. **Uppercase Initials**  \n",
    "   - Take a full name as input and print the initials in uppercase.\n",
    "\n",
    "9. **Check if a Word is a Palindrome**  \n",
    "   - Take a word as input and check whether it is a palindrome.\n",
    "\n",
    "10. **Find the Last Three Characters**  \n",
    "    - Take a word as input and print the last three characters using slicing.\n",
    "\n",
    "---\n",
    "\n",
    "### Mini Project: **Password Strength Checker**\n",
    "\n",
    "**Goal**:  \n",
    "Create a program that takes a user's input for a password and checks its strength based on the following criteria:\n",
    "- At least 8 characters long.\n",
    "- Contains both uppercase and lowercase letters.\n",
    "- Includes at least one numeric digit.\n",
    "- Contains at least one special character (e.g., `!`, `@`, `#`, etc.).\n",
    "\n",
    "**Steps**:\n",
    "1. Take the password as input from the user.\n",
    "2. Use string methods like `.lower()`, `.isupper()`, `.isdigit()`, and slicing to validate the password.\n",
    "3. Print whether the password is weak, medium, or strong based on how many criteria it satisfies."
   ]
  },
  {
   "cell_type": "markdown",
   "metadata": {},
   "source": []
  },
  {
   "cell_type": "code",
   "execution_count": 2,
   "metadata": {},
   "outputs": [
    {
     "name": "stdout",
     "output_type": "stream",
     "text": [
      "First name: Kun\n",
      "Last name: Khu\n"
     ]
    }
   ],
   "source": [
    "x = input(\"Full name: \")\n",
    "first_name = x.split()[0]\n",
    "last_name = x.split()[1]\n",
    "print(f\"First name: {first_name[0:3]}\")\n",
    "print(f\"Last name: {last_name[0:3]}\")"
   ]
  },
  {
   "cell_type": "code",
   "execution_count": 3,
   "metadata": {},
   "outputs": [
    {
     "name": "stdout",
     "output_type": "stream",
     "text": [
      "Reverse Kwang: gnawK\n"
     ]
    }
   ],
   "source": [
    "x = input(\"Input: \")\n",
    "print(f\"Reverse {x}: {x[::-1]}\")"
   ]
  },
  {
   "cell_type": "code",
   "execution_count": 7,
   "metadata": {},
   "outputs": [
    {
     "name": "stdout",
     "output_type": "stream",
     "text": [
      "Middle Kwang: a\n"
     ]
    }
   ],
   "source": [
    "x = input(\"Input: \")\n",
    "print(f\"Middle {x}: {x[len(x)//2]}\")"
   ]
  },
  {
   "cell_type": "code",
   "execution_count": 10,
   "metadata": {},
   "outputs": [
    {
     "name": "stdout",
     "output_type": "stream",
     "text": [
      "length: 11\n"
     ]
    }
   ],
   "source": [
    "x=input(\"String: \")\n",
    "x= x.strip()\n",
    "x= x.replace(\" \",\"\")\n",
    "\n",
    "print(f\"length: {len(x)}\")"
   ]
  },
  {
   "cell_type": "code",
   "execution_count": 11,
   "metadata": {},
   "outputs": [
    {
     "name": "stdout",
     "output_type": "stream",
     "text": [
      "Lower: pink \n",
      " Upper: PINK\n",
      "Lower: purple \n",
      " Upper: PURPLE\n",
      "Lower: red \n",
      " Upper: RED\n",
      "Lower: yellow \n",
      " Upper: YELLOW\n"
     ]
    }
   ],
   "source": [
    "x=input(\"Input your favorite color: \")\n",
    "x=x.strip().split()\n",
    "\n",
    "for i in x:\n",
    "    print(f\"Lower: {i.lower()} \\n Upper: {i.upper()}\")"
   ]
  },
  {
   "cell_type": "code",
   "execution_count": 17,
   "metadata": {},
   "outputs": [
    {
     "name": "stdout",
     "output_type": "stream",
     "text": [
      "Userid: Kunong\n"
     ]
    }
   ],
   "source": [
    "x = input(\"Full name: \")\n",
    "first_name = x.split()[0]\n",
    "last_name = x.split()[1]\n",
    "userid = first_name[0:3]+last_name[-3:]\n",
    "\n",
    "print(\"Userid: \"+userid)"
   ]
  },
  {
   "cell_type": "code",
   "execution_count": 18,
   "metadata": {},
   "outputs": [
    {
     "name": "stdout",
     "output_type": "stream",
     "text": [
      "dffvgdfd.  egeg.  egetgt.\n"
     ]
    }
   ],
   "source": [
    "x = input(\"Input: \")\n",
    "x=x.strip()\n",
    "print(x)\n"
   ]
  },
  {
   "cell_type": "code",
   "execution_count": 19,
   "metadata": {},
   "outputs": [
    {
     "name": "stdout",
     "output_type": "stream",
     "text": [
      "Kunanya Khuntiptong\n"
     ]
    }
   ],
   "source": [
    "x = input(\"Full name: \")\n",
    "\n",
    "first_name = x.split()[0]\n",
    "last_name = x.split()[1]\n",
    "\n",
    "print(f\"{first_name[0].upper()}{first_name[1:]} {last_name[0].upper()}{last_name[1:]}\")"
   ]
  },
  {
   "cell_type": "code",
   "execution_count": 22,
   "metadata": {},
   "outputs": [
    {
     "name": "stdout",
     "output_type": "stream",
     "text": [
      "Not Palindrome\n"
     ]
    }
   ],
   "source": [
    "x= input(\"String: \")\n",
    "if x == x[::-1]:\n",
    "    print(\"Palindrome\")\n",
    "else:\n",
    "    print(\"Not Palindrome\")"
   ]
  },
  {
   "cell_type": "code",
   "execution_count": 26,
   "metadata": {},
   "outputs": [
    {
     "name": "stdout",
     "output_type": "stream",
     "text": [
      "ang\n"
     ]
    }
   ],
   "source": [
    "x= input(\"String: \")\n",
    "print(x[-3:])"
   ]
  },
  {
   "cell_type": "code",
   "execution_count": 31,
   "metadata": {},
   "outputs": [
    {
     "name": "stdout",
     "output_type": "stream",
     "text": [
      "The password is not safe: \n",
      "LengthError\n",
      "LowerCaseError\n",
      "UpperCaseError\n",
      "NumberError\n"
     ]
    }
   ],
   "source": [
    "x = input(\"Password: \")\n",
    "len_warn = 0\n",
    "upper_ex = 0\n",
    "lower_ex = 0\n",
    "num_ex = 0\n",
    "special_ex = 0\n",
    "\n",
    "if len(x)<8:\n",
    "    len_warn = 1\n",
    "\n",
    "for i in x:\n",
    "    if upper_ex == 1 and lower_ex == 1 and num_ex==1 and special_ex==1:\n",
    "        break\n",
    "    if i.islower() == True:\n",
    "        lower_ex = 1\n",
    "    if i.isupper() == True:\n",
    "        upper_ex = 1\n",
    "    if i.isdigit() == True:\n",
    "        num_ex = 1\n",
    "    if i.isalnum() == False:\n",
    "        special_ex = 1\n",
    "\n",
    "if len_warn ==0 and upper_ex == 1 and lower_ex == 1 and num_ex == 1 and special_ex == 1:\n",
    "    print(\"The password is safe\")\n",
    "else:\n",
    "    print(\"The password is not safe: \")\n",
    "    if len_warn==1:\n",
    "        print(\"LengthError\")\n",
    "    if lower_ex==0:\n",
    "        print(\"LowerCaseError\")\n",
    "    if upper_ex==0:\n",
    "        print(\"UpperCaseError\")\n",
    "    if num_ex==0:\n",
    "        print(\"NumberError\")\n",
    "    if special_ex==0:\n",
    "        print(\"SpecialCharacterError\")\n",
    "\n",
    "\n",
    "\n",
    "\n"
   ]
  },
  {
   "cell_type": "code",
   "execution_count": null,
   "metadata": {},
   "outputs": [],
   "source": []
  }
 ],
 "metadata": {
  "kernelspec": {
   "display_name": "Python 3",
   "language": "python",
   "name": "python3"
  },
  "language_info": {
   "codemirror_mode": {
    "name": "ipython",
    "version": 3
   },
   "file_extension": ".py",
   "mimetype": "text/x-python",
   "name": "python",
   "nbconvert_exporter": "python",
   "pygments_lexer": "ipython3",
   "version": "3.10.7"
  }
 },
 "nbformat": 4,
 "nbformat_minor": 2
}
