{
 "cells": [
  {
   "cell_type": "markdown",
   "metadata": {},
   "source": [
    "---\n",
    "\n",
    "### **Exercise 1: Dictionary Creation**\n",
    "\n",
    "Create a dictionary called `student_info` that contains the following key-value pairs:\n",
    "\n",
    "- Name: \"John Doe\"\n",
    "- Age: 20\n",
    "- Major: \"Computer Science\"\n",
    "- GPA: 3.8\n",
    "\n",
    "**Task**: Print the dictionary.\n",
    "\n",
    "---\n",
    "\n",
    "### **Exercise 2: Accessing Dictionary Values**\n",
    "\n",
    "Using the `student_info` dictionary from Exercise 1, access and print:\n",
    "\n",
    "- The student's name.\n",
    "- The student's GPA.\n",
    "\n",
    "---\n",
    "\n",
    "### **Exercise 3: Adding a Key-Value Pair**\n",
    "\n",
    "Add a new key-value pair to the `student_info` dictionary:\n",
    "\n",
    "- \"Graduation Year\": 2025\n",
    "\n",
    "**Task**: Print the updated dictionary.\n",
    "\n",
    "---\n",
    "\n",
    "### **Exercise 4: Modifying a Value**\n",
    "\n",
    "Change the student's GPA in `student_info` to 3.9.\n",
    "\n",
    "**Task**: Print the dictionary after modification.\n",
    "\n",
    "---\n",
    "\n",
    "### **Exercise 5: Using the `get()` Method**\n",
    "\n",
    "Using the `get()` method, check if the dictionary `student_info` contains the key \"Minor\". If the key is not present, return \"Not specified\".\n",
    "\n",
    "---\n",
    "\n",
    "### **Exercise 6: Removing a Key-Value Pair**\n",
    "\n",
    "Remove the \"Major\" key from the `student_info` dictionary using the `pop()` method.\n",
    "\n",
    "**Task**: Print the dictionary after the key is removed.\n",
    "\n",
    "---\n",
    "\n",
    "### **Exercise 7: Using `keys()` and `values()` Methods**\n",
    "\n",
    "Using the `student_info` dictionary, print:\n",
    "\n",
    "- All the keys in the dictionary.\n",
    "- All the values in the dictionary.\n",
    "\n",
    "---\n",
    "\n",
    "### **Exercise 8: Dictionary of Lists**\n",
    "\n",
    "Create a dictionary called `class_grades` where each student has a list of their grades. For example:\n",
    "\n",
    "```python\n",
    "class_grades = {\n",
    "    \"Alice\": [85, 90, 88],\n",
    "    \"Bob\": [92, 88, 79],\n",
    "    \"Charlie\": [88, 76, 85]\n",
    "}\n",
    "```\n",
    "\n",
    "**Task**: Print Alice's grades.\n",
    "\n",
    "---\n",
    "\n",
    "### **Exercise 9: Nested Dictionary**\n",
    "\n",
    "Create a dictionary called `library` where each book has information like title, author, and year. Example:\n",
    "\n",
    "```python\n",
    "library = {\n",
    "    \"Book1\": {\"title\": \"To Kill a Mockingbird\", \"author\": \"Harper Lee\", \"year\": 1960},\n",
    "    \"Book2\": {\"title\": \"1984\", \"author\": \"George Orwell\", \"year\": 1949}\n",
    "}\n",
    "```\n",
    "\n",
    "**Task**: Print the title of \"Book2\".\n",
    "\n",
    "---\n",
    "\n",
    "### **Exercise 10: Merging Dictionaries**\n",
    "\n",
    "You have two dictionaries:\n",
    "\n",
    "```python\n",
    "dict1 = {\"a\": 1, \"b\": 2}\n",
    "dict2 = {\"c\": 3, \"d\": 4}\n",
    "```\n",
    "\n",
    "**Task**: Merge `dict2` into `dict1` using the `update()` method and print the merged dictionary.\n",
    "\n",
    "---"
   ]
  },
  {
   "cell_type": "code",
   "execution_count": 11,
   "metadata": {},
   "outputs": [
    {
     "name": "stdout",
     "output_type": "stream",
     "text": [
      "{'Name': 'John Doe', 'Age': 20, 'Major': 'Computer Science', 'GPA': 3.8}\n"
     ]
    }
   ],
   "source": [
    "student_info = {\n",
    "    \"Name\":\"John Doe\",\n",
    "    \"Age\": 20,\n",
    "    \"Major\": \"Computer Science\",\n",
    "    \"GPA\": 3.8\n",
    "}\n",
    "\n",
    "print(student_info)"
   ]
  },
  {
   "cell_type": "code",
   "execution_count": 12,
   "metadata": {},
   "outputs": [
    {
     "name": "stdout",
     "output_type": "stream",
     "text": [
      "Name: John Doe \n",
      " GPA: 3.8\n"
     ]
    }
   ],
   "source": [
    "print(f\"Name: {student_info['Name']} \\n GPA: {student_info['GPA']}\")"
   ]
  },
  {
   "cell_type": "code",
   "execution_count": 13,
   "metadata": {},
   "outputs": [
    {
     "name": "stdout",
     "output_type": "stream",
     "text": [
      "{'Name': 'John Doe', 'Age': 20, 'Major': 'Computer Science', 'GPA': 3.8, 'Graduation Year': 2025}\n"
     ]
    }
   ],
   "source": [
    "student_info['Graduation Year'] = 2025\n",
    "print(student_info)"
   ]
  },
  {
   "cell_type": "code",
   "execution_count": 14,
   "metadata": {},
   "outputs": [
    {
     "name": "stdout",
     "output_type": "stream",
     "text": [
      "{'Name': 'John Doe', 'Age': 20, 'Major': 'Computer Science', 'GPA': 3.9, 'Graduation Year': 2025}\n"
     ]
    }
   ],
   "source": [
    "student_info['GPA'] = 3.9\n",
    "print(student_info)"
   ]
  },
  {
   "cell_type": "code",
   "execution_count": 15,
   "metadata": {},
   "outputs": [
    {
     "name": "stdout",
     "output_type": "stream",
     "text": [
      "Not specified\n"
     ]
    }
   ],
   "source": [
    "if student_info.get('Minor') is None:\n",
    "    print('Not specified')\n",
    "\n"
   ]
  },
  {
   "cell_type": "code",
   "execution_count": 16,
   "metadata": {},
   "outputs": [
    {
     "name": "stdout",
     "output_type": "stream",
     "text": [
      "{'Name': 'John Doe', 'Age': 20, 'GPA': 3.9, 'Graduation Year': 2025}\n"
     ]
    }
   ],
   "source": [
    "student_info.pop('Major')\n",
    "print(student_info)"
   ]
  },
  {
   "cell_type": "code",
   "execution_count": 17,
   "metadata": {},
   "outputs": [
    {
     "name": "stdout",
     "output_type": "stream",
     "text": [
      "Keys: dict_keys(['Name', 'Age', 'GPA', 'Graduation Year'])\n",
      "Values: dict_values(['John Doe', 20, 3.9, 2025])\n"
     ]
    }
   ],
   "source": [
    "print(f\"Keys: {student_info.keys()}\")\n",
    "print(f\"Values: {student_info.values()}\")"
   ]
  },
  {
   "cell_type": "code",
   "execution_count": 18,
   "metadata": {},
   "outputs": [
    {
     "name": "stdout",
     "output_type": "stream",
     "text": [
      "[85, 90, 88]\n"
     ]
    }
   ],
   "source": [
    "class_grades = {\n",
    "    \"Alice\": [85,90,88],\n",
    "    \"Bob\": [92,88,79],\n",
    "    \"Charlie\": [88,76,85]\n",
    "}\n",
    "\n",
    "print(f\"{class_grades['Alice']}\")"
   ]
  },
  {
   "cell_type": "code",
   "execution_count": 19,
   "metadata": {},
   "outputs": [
    {
     "name": "stdout",
     "output_type": "stream",
     "text": [
      "1984\n"
     ]
    }
   ],
   "source": [
    "library = {\n",
    "    \"Book1\": {\"title\": \"To Kill a Mockingbird\", \"author\": \"Harper Lee\", \"year\": 1960},\n",
    "    \"Book2\": {\"title\": \"1984\", \"author\": \"George Orwell\", \"year\": 1949}\n",
    "}\n",
    "\n",
    "print(library['Book2']['title'])"
   ]
  },
  {
   "cell_type": "code",
   "execution_count": 22,
   "metadata": {},
   "outputs": [
    {
     "name": "stdout",
     "output_type": "stream",
     "text": [
      "{'a': 1, 'b': 2, 'c': 3, 'd': 4}\n"
     ]
    }
   ],
   "source": [
    "dict1 = {\"a\": 1, \"b\": 2}\n",
    "dict2 = {\"c\": 3, \"d\": 4}\n",
    "\n",
    "dict1.update(dict2)\n",
    "print(dict1)"
   ]
  },
  {
   "cell_type": "code",
   "execution_count": null,
   "metadata": {},
   "outputs": [],
   "source": []
  }
 ],
 "metadata": {
  "kernelspec": {
   "display_name": "Python 3",
   "language": "python",
   "name": "python3"
  },
  "language_info": {
   "codemirror_mode": {
    "name": "ipython",
    "version": 3
   },
   "file_extension": ".py",
   "mimetype": "text/x-python",
   "name": "python",
   "nbconvert_exporter": "python",
   "pygments_lexer": "ipython3",
   "version": "3.11.1"
  }
 },
 "nbformat": 4,
 "nbformat_minor": 2
}
