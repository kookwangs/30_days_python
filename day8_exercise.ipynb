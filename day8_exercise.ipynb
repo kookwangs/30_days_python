{
 "cells": [
  {
   "cell_type": "markdown",
   "metadata": {},
   "source": [
    "### Exercise of the day\n",
    "\n",
    "1. **Task 1**: Write a function `sum_of_list(lst)` that takes a list of numbers as input and returns the sum of all the elements in the list.\n",
    "\n",
    "2. **Task 2**: Create a function `multiply_list_elements(lst, multiplier)` that multiplies each element in a list by a given multiplier and returns the new list.\n",
    "\n",
    "3. **Task 3**: Define a function `count_words(sentence)` that takes a string (sentence) and returns the number of words in it.\n",
    "\n",
    "4. **Task 4**: Write a function `find_minimum(numbers)` that returns the smallest number in a list of numbers.\n",
    "\n",
    "5. **Task 5**: Create a function `fibonacci(n)` that returns the first `n` numbers in the Fibonacci sequence.\n",
    "\n",
    "6. **Task 6**: Define a function `string_length(str_list)` that takes a list of strings and returns a new list containing the length of each string.\n",
    "\n",
    "7. **Task 7**: Write a function `capitalize_names(names)` that takes a list of names and returns a new list where each name is capitalized.\n",
    "\n",
    "8. **Task 8**: Create a function `remove_duplicates(lst)` that removes any duplicate elements from a list and returns the list with unique elements only.\n",
    "\n",
    "9. **Task 9**: Write a function `prime_check(num)` that checks if a number is a prime number. Return `True` if it is, otherwise `False`.\n",
    "\n",
    "10. **Task 10**: Define a function `calculate_discount(price, discount_percentage)` that calculates and returns the discounted price of an item based on the original price and discount percentage."
   ]
  },
  {
   "cell_type": "code",
   "execution_count": 1,
   "metadata": {},
   "outputs": [
    {
     "name": "stdout",
     "output_type": "stream",
     "text": [
      "15\n"
     ]
    }
   ],
   "source": [
    "def sum_of_list(lst):\n",
    "    sum=0\n",
    "    for i in lst:\n",
    "        sum+=i\n",
    "    return sum\n",
    "\n",
    "x = sum_of_list([1,2,3,4,5])\n",
    "print(x)"
   ]
  },
  {
   "cell_type": "code",
   "execution_count": 2,
   "metadata": {},
   "outputs": [
    {
     "name": "stdout",
     "output_type": "stream",
     "text": [
      "[0, 24, 60, 96, 120]\n"
     ]
    }
   ],
   "source": [
    "def multiply_list_elements(lst, multiplier):\n",
    "    mul = lst\n",
    "    for i in range(len(lst)):\n",
    "        mul[i] = mul[i] * multiplier\n",
    "    return mul\n",
    "\n",
    "print(multiply_list_elements([0,2,5,8,10], 12))\n"
   ]
  },
  {
   "cell_type": "code",
   "execution_count": 5,
   "metadata": {},
   "outputs": [
    {
     "name": "stdout",
     "output_type": "stream",
     "text": [
      "3\n"
     ]
    }
   ],
   "source": [
    "def count_words(sentence):\n",
    "    sentence = sentence.strip()\n",
    "    x = sentence.split()\n",
    "    return len(x)\n",
    "\n",
    "print(count_words(\"    Hello World    frf\"))"
   ]
  },
  {
   "cell_type": "code",
   "execution_count": 6,
   "metadata": {},
   "outputs": [
    {
     "name": "stdout",
     "output_type": "stream",
     "text": [
      "-10\n"
     ]
    }
   ],
   "source": [
    "def find_minimum(numbers):\n",
    "    min = float('inf')\n",
    "    for i in numbers:\n",
    "        if i<min:\n",
    "            min = i\n",
    "    return min\n",
    "\n",
    "print(find_minimum([4,5,8,100,2,1,-9,-10,-0]))"
   ]
  },
  {
   "cell_type": "code",
   "execution_count": 20,
   "metadata": {},
   "outputs": [],
   "source": [
    "def fibonacci(n):\n",
    "    first = 0\n",
    "    second = 1\n",
    "    now = 0\n",
    "    if n ==1:\n",
    "        return [0]\n",
    "    elif n ==2:\n",
    "        return [0, 1]\n",
    "    else:\n",
    "        fibo = [0, 1]\n",
    "        for i in range(n-2):\n",
    "            fibo.append(fibo[i]+fibo[i+1])\n",
    "        return fibo\n"
   ]
  },
  {
   "cell_type": "code",
   "execution_count": 22,
   "metadata": {},
   "outputs": [
    {
     "name": "stdout",
     "output_type": "stream",
     "text": [
      "[0, 1, 1, 2, 3, 5, 8, 13, 21, 34]\n"
     ]
    }
   ],
   "source": [
    "print(fibonacci(10))"
   ]
  },
  {
   "cell_type": "code",
   "execution_count": 23,
   "metadata": {},
   "outputs": [
    {
     "name": "stdout",
     "output_type": "stream",
     "text": [
      "[6, 9, 7]\n"
     ]
    }
   ],
   "source": [
    "def string_length(str_list):\n",
    "    len_list = []\n",
    "    for i in str_list:\n",
    "        len_list.append(len(i))\n",
    "    return len_list\n",
    "\n",
    "print(string_length([\"Kwang6\",\"Kunanya 9\",\"ILOVEU7\"]))"
   ]
  },
  {
   "cell_type": "code",
   "execution_count": 24,
   "metadata": {},
   "outputs": [
    {
     "name": "stdout",
     "output_type": "stream",
     "text": [
      "['KWANG', 'KUNANYA']\n"
     ]
    }
   ],
   "source": [
    "def capitalize_names(names):\n",
    "    cap_names = []\n",
    "    for i in names:\n",
    "        cap_names.append(i.upper())\n",
    "    return cap_names\n",
    "\n",
    "print(capitalize_names(['kwang','kunanya']))"
   ]
  },
  {
   "cell_type": "code",
   "execution_count": 26,
   "metadata": {},
   "outputs": [
    {
     "name": "stdout",
     "output_type": "stream",
     "text": [
      "[1, 2, 3, 4, 5, 6, 7, 9]\n"
     ]
    }
   ],
   "source": [
    "def remove_duplicate(lst):\n",
    "    x = set(lst)\n",
    "    x = list(x)\n",
    "    return x\n",
    "\n",
    "print(remove_duplicate([1,2,9,3,3,4,5,6,7,4,9,1,3]))"
   ]
  },
  {
   "cell_type": "code",
   "execution_count": 27,
   "metadata": {},
   "outputs": [
    {
     "ename": "NameError",
     "evalue": "name 'num' is not defined",
     "output_type": "error",
     "traceback": [
      "\u001b[0;31m---------------------------------------------------------------------------\u001b[0m",
      "\u001b[0;31mNameError\u001b[0m                                 Traceback (most recent call last)",
      "Cell \u001b[0;32mIn[27], line 1\u001b[0m\n\u001b[0;32m----> 1\u001b[0m \u001b[38;5;28mprint\u001b[39m(\u001b[43mnum\u001b[49m(\u001b[38;5;241m2\u001b[39m,\u001b[38;5;241m1\u001b[39m\u001b[38;5;241m/\u001b[39m\u001b[38;5;241m2\u001b[39m))\n",
      "\u001b[0;31mNameError\u001b[0m: name 'num' is not defined"
     ]
    }
   ],
   "source": [
    "print(num(2,1/2))"
   ]
  },
  {
   "cell_type": "code",
   "execution_count": 2,
   "metadata": {},
   "outputs": [],
   "source": [
    "import math"
   ]
  },
  {
   "cell_type": "code",
   "execution_count": 5,
   "metadata": {},
   "outputs": [
    {
     "name": "stdout",
     "output_type": "stream",
     "text": [
      "False\n",
      "True\n",
      "True\n",
      "True\n",
      "False\n"
     ]
    }
   ],
   "source": [
    "def prime_check(num):\n",
    "    not_prime = 0\n",
    "    if num < 0 or num == 1:\n",
    "        return False\n",
    "    elif num == 2:\n",
    "        return True\n",
    "    else:\n",
    "        for i in range(3,int(math.sqrt(num))):\n",
    "            if num%i ==0:\n",
    "                not_prime=1\n",
    "                return False\n",
    "        if not_prime == 0:\n",
    "            return True\n",
    "\n",
    "print(prime_check(1))\n",
    "print(prime_check(2))\n",
    "print(prime_check(3))\n",
    "\n",
    "print(prime_check(11))\n",
    "print(prime_check(400))\n",
    "\n",
    "\n",
    "\n",
    "\n",
    "    \n",
    "        "
   ]
  },
  {
   "cell_type": "code",
   "execution_count": 6,
   "metadata": {},
   "outputs": [
    {
     "name": "stdout",
     "output_type": "stream",
     "text": [
      "15001.0\n"
     ]
    }
   ],
   "source": [
    "def calculate_discount(price, discount_percentage):\n",
    "    discounted = price*discount_percentage/100\n",
    "    return discounted\n",
    "\n",
    "print(calculate_discount(30002, 50))"
   ]
  }
 ],
 "metadata": {
  "kernelspec": {
   "display_name": "Python 3",
   "language": "python",
   "name": "python3"
  },
  "language_info": {
   "codemirror_mode": {
    "name": "ipython",
    "version": 3
   },
   "file_extension": ".py",
   "mimetype": "text/x-python",
   "name": "python",
   "nbconvert_exporter": "python",
   "pygments_lexer": "ipython3",
   "version": "3.10.7"
  }
 },
 "nbformat": 4,
 "nbformat_minor": 2
}
