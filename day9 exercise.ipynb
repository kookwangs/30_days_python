{
 "cells": [
  {
   "cell_type": "markdown",
   "metadata": {},
   "source": [
    "### Exercise of Day 09\n",
    "### **Lambda Functions**\n",
    "\n",
    "1. Write a lambda function that takes a number and returns its cube.\n",
    "2. Write a lambda function that returns the first character of a string.\n",
    "3. Write a lambda function that checks if a number is greater than 10.\n",
    "4. Write a lambda function that returns the last character of a string.\n",
    "5. Write a lambda function that takes a list and returns the sum of its elements.\n",
    "\n",
    "### **Map**\n",
    "\n",
    "1. Use `map()` with a lambda function to convert a list of temperatures from Celsius to Fahrenheit.\n",
    "2. Use `map()` with a lambda function to square each number in a list.\n",
    "3. Use `map()` with a lambda function to prepend the string \"Hello, \" to each name in a list of names.\n",
    "4. Use `map()` with a lambda function to calculate the length of each string in a list of strings.\n",
    "5. Use `map()` with a lambda function to add 100 to each element in a list of numbers.\n",
    "\n",
    "### **Filter**\n",
    "\n",
    "1. Use `filter()` with a lambda function to select all even numbers from a list.\n",
    "2. Use `filter()` with a lambda function to get all names that start with the letter 'A' from a list of names.\n",
    "3. Use `filter()` with a lambda function to extract all strings longer than 5 characters from a list.\n",
    "4. Use `filter()` with a lambda function to select numbers greater than 50 from a list.\n",
    "5. Use `filter()` with a lambda function to get all positive numbers from a list of integers.\n",
    "\n",
    "### **Reduce**\n",
    "\n",
    "1. Use `reduce()` with a lambda function to find the maximum number in a list.\n",
    "2. Use `reduce()` with a lambda function to concatenate a list of strings into a single string.\n",
    "3. Use `reduce()` with a lambda function to compute the sum of all elements in a list.\n",
    "4. Use `reduce()` with a lambda function to multiply all elements in a list.\n",
    "5. Use `reduce()` with a lambda function to find the minimum number in a list.\n",
    "\n",
    "### **List Comprehensions**\n",
    "\n",
    "1. Use a list comprehension to create a list of squares of numbers from 1 to 10.\n",
    "2. Use a list comprehension to filter out all odd numbers from a list.\n",
    "3. Use a list comprehension to create a list of strings that are capitalized versions of a given list.\n",
    "4. Use a list comprehension to extract the first letter of each word in a list of words.\n",
    "5. Use a list comprehension to create a list of numbers from 1 to 20 that are divisible by 4."
   ]
  },
  {
   "cell_type": "code",
   "execution_count": 1,
   "metadata": {},
   "outputs": [
    {
     "data": {
      "text/plain": [
       "729"
      ]
     },
     "execution_count": 1,
     "metadata": {},
     "output_type": "execute_result"
    }
   ],
   "source": [
    "cube = lambda x: x*x*x\n",
    "cube(9)"
   ]
  },
  {
   "cell_type": "code",
   "execution_count": 2,
   "metadata": {},
   "outputs": [
    {
     "data": {
      "text/plain": [
       "'9'"
      ]
     },
     "execution_count": 2,
     "metadata": {},
     "output_type": "execute_result"
    }
   ],
   "source": [
    "firstChar = lambda x: x[0]\n",
    "\n",
    "firstChar(\"9erkgeqorjg\")"
   ]
  },
  {
   "cell_type": "code",
   "execution_count": 5,
   "metadata": {},
   "outputs": [
    {
     "name": "stdout",
     "output_type": "stream",
     "text": [
      "False\n",
      "True\n"
     ]
    }
   ],
   "source": [
    "greatThanTen = lambda x: x>10\n",
    "print(greatThanTen(9))\n",
    "print(greatThanTen(11))"
   ]
  },
  {
   "cell_type": "code",
   "execution_count": 6,
   "metadata": {},
   "outputs": [
    {
     "data": {
      "text/plain": [
       "'g'"
      ]
     },
     "execution_count": 6,
     "metadata": {},
     "output_type": "execute_result"
    }
   ],
   "source": [
    "lastChar = lambda x: x[-1]\n",
    "lastChar(\"9erkgeqorjg\")"
   ]
  },
  {
   "cell_type": "code",
   "execution_count": 7,
   "metadata": {},
   "outputs": [
    {
     "data": {
      "text/plain": [
       "15"
      ]
     },
     "execution_count": 7,
     "metadata": {},
     "output_type": "execute_result"
    }
   ],
   "source": [
    "sumList = lambda x: sum(x)\n",
    "\n",
    "sumList([0,1,2,3,4,5])"
   ]
  },
  {
   "cell_type": "code",
   "execution_count": 9,
   "metadata": {},
   "outputs": [
    {
     "name": "stdout",
     "output_type": "stream",
     "text": [
      "[4, 16, 36]\n"
     ]
    }
   ],
   "source": [
    "square = lambda x: x*x\n",
    "print(list(map(square,[2,4,6])))"
   ]
  },
  {
   "cell_type": "code",
   "execution_count": 12,
   "metadata": {},
   "outputs": [
    {
     "name": "stdout",
     "output_type": "stream",
     "text": [
      "['Hello, Kwang', 'Hello, Ueay', 'Hello, NP']\n"
     ]
    }
   ],
   "source": [
    "name_lst = ['Kwang','Ueay','NP']\n",
    "prependName = lambda x: \"Hello, \"+x\n",
    "\n",
    "z = map(prependName, name_lst)\n",
    "print(list(z))\n"
   ]
  },
  {
   "cell_type": "code",
   "execution_count": 13,
   "metadata": {},
   "outputs": [
    {
     "name": "stdout",
     "output_type": "stream",
     "text": [
      "[5, 4, 2]\n"
     ]
    }
   ],
   "source": [
    "str_lst = ['Kwang','Ueay','NP']\n",
    "countLen = lambda x: len(x)\n",
    "\n",
    "z = map(countLen, str_lst)\n",
    "print(list(z))"
   ]
  },
  {
   "cell_type": "code",
   "execution_count": 14,
   "metadata": {},
   "outputs": [
    {
     "name": "stdout",
     "output_type": "stream",
     "text": [
      "[130, 154, 2343554]\n"
     ]
    }
   ],
   "source": [
    "num = [30,54,2343454]\n",
    "\n",
    "addNum = lambda x: x+100\n",
    "\n",
    "z = map(addNum, num)\n",
    "print(list(z))"
   ]
  },
  {
   "cell_type": "code",
   "execution_count": 15,
   "metadata": {},
   "outputs": [
    {
     "name": "stdout",
     "output_type": "stream",
     "text": [
      "[0, 2, 4]\n"
     ]
    }
   ],
   "source": [
    "num = [0,1,2,3,4,5]\n",
    "checkEven = lambda x: x%2==0\n",
    "z = filter(checkEven,num)\n",
    "print(list(z))"
   ]
  },
  {
   "cell_type": "code",
   "execution_count": 16,
   "metadata": {},
   "outputs": [
    {
     "name": "stdout",
     "output_type": "stream",
     "text": [
      "['Ana', 'anny', 'ary']\n"
     ]
    }
   ],
   "source": [
    "name = ['Ana','Nana',\"anny\",'ary']\n",
    "checkName = lambda x: x.lower()[0] == 'a'\n",
    "z= filter(checkName, name)\n",
    "print(list(z))"
   ]
  },
  {
   "cell_type": "code",
   "execution_count": null,
   "metadata": {},
   "outputs": [],
   "source": []
  }
 ],
 "metadata": {
  "kernelspec": {
   "display_name": "Python 3",
   "language": "python",
   "name": "python3"
  },
  "language_info": {
   "codemirror_mode": {
    "name": "ipython",
    "version": 3
   },
   "file_extension": ".py",
   "mimetype": "text/x-python",
   "name": "python",
   "nbconvert_exporter": "python",
   "pygments_lexer": "ipython3",
   "version": "3.10.7"
  }
 },
 "nbformat": 4,
 "nbformat_minor": 2
}
